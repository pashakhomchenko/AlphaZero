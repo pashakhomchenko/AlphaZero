{
  "nbformat": 4,
  "nbformat_minor": 0,
  "metadata": {
    "colab": {
      "provenance": [],
      "authorship_tag": "ABX9TyOYG7utsq/aP4pPtvj8N2F5",
      "include_colab_link": true
    },
    "kernelspec": {
      "name": "python3",
      "display_name": "Python 3"
    },
    "language_info": {
      "name": "python"
    }
  },
  "cells": [
    {
      "cell_type": "markdown",
      "metadata": {
        "id": "view-in-github",
        "colab_type": "text"
      },
      "source": [
        "<a href=\"https://colab.research.google.com/github/pashakhomchenko/AlphaZero/blob/master/AlphaZero.ipynb\" target=\"_parent\"><img src=\"https://colab.research.google.com/assets/colab-badge.svg\" alt=\"Open In Colab\"/></a>"
      ]
    },
    {
      "cell_type": "markdown",
      "source": [
        "this notebook is my follow along and exploration of this AlphaZero [tutorial](https://www.youtube.com/watch?v=wuSQpLinRB4). let's dive in"
      ],
      "metadata": {
        "id": "ZncR3Zh4xhFe"
      }
    },
    {
      "cell_type": "markdown",
      "source": [
        "# Tic Tac Toe\n"
      ],
      "metadata": {
        "id": "Zj4owU_Uxg_a"
      }
    },
    {
      "cell_type": "markdown",
      "source": [
        "## Game Setup"
      ],
      "metadata": {
        "id": "YPdMIbhwxwKP"
      }
    },
    {
      "cell_type": "code",
      "execution_count": 1,
      "metadata": {
        "id": "ziiKrVPUE50K"
      },
      "outputs": [],
      "source": [
        "import numpy as np\n",
        "import math"
      ]
    },
    {
      "cell_type": "code",
      "source": [
        "class TicTacToe:\n",
        "  def __init__(self):\n",
        "    self.row_count = 3\n",
        "    self.column_count = 3\n",
        "    self.action_size = self.row_count * self.column_count\n",
        "\n",
        "  def get_initial_state(self):\n",
        "    return np.zeros([self.row_count, self.column_count])\n",
        "\n",
        "  def get_next_state(self, state, action, player):\n",
        "    # action == 0 means top left corner, action == 9 - bottom right\n",
        "    row = action // self.column_count\n",
        "    column = action % self.column_count\n",
        "    state[row, column] = player\n",
        "    return state\n",
        "\n",
        "  def get_valid_moves(self, state):\n",
        "    # state.reshape(-1) - flattens the array\n",
        "    return (state.reshape(-1) == 0).astype(np.uint8)\n",
        "\n",
        "  def check_win(self, state, action):\n",
        "    if action == None:\n",
        "      return False\n",
        "\n",
        "    row = action // self.column_count\n",
        "    column = action % self.column_count\n",
        "    player = state[row, column]\n",
        "    return (\n",
        "        np.sum(state[row, :]) == player * self.column_count\n",
        "        or\n",
        "        np.sum(state[:, column]) == player * self.row_count\n",
        "        or\n",
        "        np.sum(np.diag(state)) == player * self.row_count\n",
        "        or\n",
        "        # flipping the state to get the other diagonal\n",
        "        np.sum(np.diag(np.flip(state))) == player * self.row_count\n",
        "    )\n",
        "\n",
        "  def get_value_and_terminated(self, state, action):\n",
        "    if self.check_win(state, action):\n",
        "      # win, reward is 1\n",
        "      return 1, True\n",
        "    if np.sum(self.get_valid_moves(state)) == 0:\n",
        "      # draw, reward is 0\n",
        "      return 0, True\n",
        "    # continue the game\n",
        "    return 0, False\n",
        "\n",
        "  def get_opponent(self, player):\n",
        "    return -player\n",
        "\n",
        "  def get_opponent_value(self, value):\n",
        "    return -value\n",
        "\n",
        "  def change_perspective(self, state, player):\n",
        "    return state * player\n",
        "\n",
        "  def get_encoded_state(self, state):\n",
        "    encoded_state = np.stack(\n",
        "        (state == -1, state == 0, state == 1)\n",
        "    ).astype(np.float32)\n",
        "    return encoded_state"
      ],
      "metadata": {
        "id": "M3I5U7spykI1"
      },
      "execution_count": 10,
      "outputs": []
    },
    {
      "cell_type": "markdown",
      "source": [
        "## Monte Carlo Tree Search"
      ],
      "metadata": {
        "id": "8AzY3PV106hr"
      }
    },
    {
      "cell_type": "code",
      "source": [
        "class Node:\n",
        "  def __init__(self, game, args, state, parent=None, action_taken=None):\n",
        "    self.game = game\n",
        "    self.args = args\n",
        "    self.state = state\n",
        "    self.parent = parent\n",
        "    self.action_taken = action_taken\n",
        "\n",
        "    self.children = []\n",
        "    self.expandable_moves = game.get_valid_moves(state)\n",
        "\n",
        "    self.visit_count = 0\n",
        "    self.value_sum = 0\n",
        "\n",
        "  def is_fully_expanded(self):\n",
        "    # no moves and at least one child to select\n",
        "    # if there are no moves and children, no child can be created - all options explored, cannot expand, continue selection\n",
        "    # if there are no moves and no children, the game is over - is_terminated will be true, stop selection\n",
        "    # if there are moves then we found a leaf node and can expand it, stop selection\n",
        "    return np.sum(self.expandable_moves) == 0 and len(self.children) > 0\n",
        "\n",
        "  def select(self):\n",
        "    best_child = None\n",
        "    best_ucb = -np.inf\n",
        "\n",
        "    for child in self.children:\n",
        "      ucb = self.get_ucb(child)\n",
        "      if ucb > best_ucb:\n",
        "        best_child = child\n",
        "        best_ucb = ucb\n",
        "\n",
        "    return best_child\n",
        "\n",
        "  def get_ucb(self, child):\n",
        "    # rescale to [0,1] range\n",
        "    # Take inverse of q because the child is the opponent from perspective\n",
        "    # of the parent, so we are looking for the worst q\n",
        "    # (parent player 1, child player 2)\n",
        "    q_value = 1 - (child.value_sum / child.visit_count + 1 ) / 2\n",
        "    return q_value + self.args['C'] * math.sqrt(math.log(self.visit_count) / child.visit_count)\n",
        "\n",
        "  def expand(self):\n",
        "    # select random move\n",
        "    action = np.random.choice(np.where(self.expandable_moves == 1)[0])\n",
        "    # no more expandable\n",
        "    self.expandable_moves[action] = 0\n",
        "\n",
        "    # create the new state that child will take\n",
        "    child_state = self.state.copy()\n",
        "    child_state = self.game.get_next_state(child_state, action, 1)\n",
        "    child_state = self.game.change_perspective(child_state, -1)\n",
        "\n",
        "    # create child\n",
        "    child = Node(self.game, self.args, child_state, self, action)\n",
        "    self.children.append(child)\n",
        "    return child\n",
        "\n",
        "  def simulate(self):\n",
        "    value, is_terminated = self.game.get_value_and_terminated(self.state, self.action_taken)\n",
        "    value = self.game.get_opponent_value(value)\n",
        "\n",
        "    if is_terminated:\n",
        "      return value\n",
        "\n",
        "    # random playing until the game finishes\n",
        "    rollout_state = self.state.copy()\n",
        "    rollout_player = 1\n",
        "    while True:\n",
        "      valid_moves = self.game.get_valid_moves(rollout_state)\n",
        "      action = np.random.choice(np.where(valid_moves == 1)[0])\n",
        "      rollout_state = self.game.get_next_state(rollout_state, action, rollout_player)\n",
        "      value, is_terminated = self.game.get_value_and_terminated(rollout_state, action)\n",
        "      if is_terminated:\n",
        "        if rollout_player == -1:\n",
        "          value = self.game.get_opponent_value(value)\n",
        "        return value\n",
        "\n",
        "      rollout_player = self.game.get_opponent(rollout_player)\n",
        "\n",
        "  def backpropogate(self, value):\n",
        "    # update yourself\n",
        "    self.value_sum += value\n",
        "    self.visit_count += 1\n",
        "\n",
        "    # update parent\n",
        "    value = self.game.get_opponent_value(value)\n",
        "    if self.parent is not None:\n",
        "      self.parent.backpropogate(value)\n",
        "\n",
        "\n",
        "class MCTS:\n",
        "  def __init__(self, game, args):\n",
        "    self.game = game\n",
        "    self.args = args\n",
        "\n",
        "  def search(self, state):\n",
        "    root = Node(self.game, self.args, state)\n",
        "\n",
        "    for search in range(self.args['num_searches']):\n",
        "      node = root\n",
        "\n",
        "      # Selection\n",
        "      while node.is_fully_expanded():\n",
        "        node = node.select()\n",
        "\n",
        "      value, is_terminated = self.game.get_value_and_terminated(node.state, node.action_taken)\n",
        "      # value above is value of the opponent\n",
        "      value = self.game.get_opponent_value(value)\n",
        "\n",
        "      if not is_terminated:\n",
        "        # Expansion\n",
        "        node = node.expand()\n",
        "        # Simulation\n",
        "        value = node.simulate()\n",
        "\n",
        "      # Backpropogation\n",
        "      node.backpropogate(value)\n",
        "\n",
        "    action_probs = np.zeros(self.game.action_size)\n",
        "    for child in root.children:\n",
        "      action_probs[child.action_taken] = child.visit_count\n",
        "    action_probs /= np.sum(action_probs)\n",
        "    return action_probs\n",
        "\n"
      ],
      "metadata": {
        "id": "qUOMB2Q2z1-6"
      },
      "execution_count": 3,
      "outputs": []
    },
    {
      "cell_type": "markdown",
      "source": [
        "## Game with MCTS"
      ],
      "metadata": {
        "id": "sfp7b1UfNk_b"
      }
    },
    {
      "cell_type": "code",
      "source": [
        "tictactoe = TicTacToe()\n",
        "player = 1\n",
        "\n",
        "args = {\n",
        "    'C': 1.41,\n",
        "    'num_searches': 1000\n",
        "}\n",
        "mcts = MCTS(tictactoe, args)\n",
        "\n",
        "state = tictactoe.get_initial_state()\n",
        "\n",
        "while True:\n",
        "  print(state)\n",
        "\n",
        "  if player == 1:\n",
        "    valid_moves = tictactoe.get_valid_moves(state)\n",
        "    print(\"valid moves\", [i for i in range(tictactoe.action_size) if valid_moves[i] == 1])\n",
        "    action = int(input(f\"{player}:\"))\n",
        "\n",
        "    if valid_moves[action] == 0:\n",
        "      print(\"action not valid\")\n",
        "      continue\n",
        "  else:\n",
        "    neutral_state = tictactoe.change_perspective(state, player)\n",
        "    mcts_probs = mcts.search(neutral_state)\n",
        "    action = np.argmax(mcts_probs)\n",
        "\n",
        "  state = tictactoe.get_next_state(state, action, player)\n",
        "  value, is_terminated = tictactoe.get_value_and_terminated(state, action)\n",
        "\n",
        "  if is_terminated:\n",
        "    print(state)\n",
        "    if value == 1:\n",
        "      print(player, \"won\")\n",
        "    else:\n",
        "      print(\"draw\")\n",
        "    break\n",
        "\n",
        "  # switch to the next player\n",
        "  player = tictactoe.get_opponent(player)"
      ],
      "metadata": {
        "id": "hO_7673Nx09o"
      },
      "execution_count": null,
      "outputs": []
    },
    {
      "cell_type": "markdown",
      "source": [
        "too easy"
      ],
      "metadata": {
        "id": "zZ0Qv9mSXqak"
      }
    },
    {
      "cell_type": "markdown",
      "source": [
        "##AlphaMCTS"
      ],
      "metadata": {
        "id": "AXB5fRpWNwUc"
      }
    },
    {
      "cell_type": "code",
      "source": [
        "import torch\n",
        "import torch.nn as nn\n",
        "import torch.nn.functional as F\n",
        "\n",
        "torch.manual_seed(0)"
      ],
      "metadata": {
        "id": "INbygRHwN6_r",
        "colab": {
          "base_uri": "https://localhost:8080/"
        },
        "outputId": "9cc31aed-f8c3-4433-c2b3-5d520234314d"
      },
      "execution_count": 16,
      "outputs": [
        {
          "output_type": "execute_result",
          "data": {
            "text/plain": [
              "<torch._C.Generator at 0x780b11765850>"
            ]
          },
          "metadata": {},
          "execution_count": 16
        }
      ]
    },
    {
      "cell_type": "code",
      "source": [
        "from torch.nn.modules.activation import Softmax\n",
        "class ResNet(nn.Module):\n",
        "  def __init__(self, game, num_resBlocks, num_hidden):\n",
        "    super().__init__()\n",
        "    self.startBlock = nn.Sequential(\n",
        "        nn.Conv2d(3, num_hidden, kernel_size=3, padding=1),\n",
        "        nn.BatchNorm2d(num_hidden),\n",
        "        nn.ReLU()\n",
        "    )\n",
        "    self.backBone = nn.ModuleList(\n",
        "        [ResBlock(num_hidden) for i in range(num_resBlocks)]\n",
        "    )\n",
        "    self.policyHead = nn.Sequential(\n",
        "        nn.Conv2d(num_hidden, 32, kernel_size=3, padding=1),\n",
        "        nn.BatchNorm2d(32),\n",
        "        nn.ReLU(),\n",
        "        nn.Flatten(),\n",
        "        nn.Linear(32 * game.row_count * game.column_count, game.action_size), # policy output\n",
        "        # why not add softmax in here??\n",
        "    )\n",
        "    self.valueHead = nn.Sequential(\n",
        "        nn.Conv2d(num_hidden, 3, kernel_size=3, padding=1),\n",
        "        nn.BatchNorm2d(3),\n",
        "        nn.ReLU(),\n",
        "        nn.Flatten(),\n",
        "        nn.Linear(3 * game.row_count * game.column_count, 1), # value output\n",
        "        nn.Tanh()\n",
        "    )\n",
        "\n",
        "  def forward(self, x):\n",
        "    x = self.startBlock(x)\n",
        "    for resBlock in self.backBone:\n",
        "      x = resBlock(x)\n",
        "    policy = self.policyHead(x)\n",
        "    value = self.valueHead(x)\n",
        "    return policy, value\n",
        "\n",
        "class ResBlock(nn.Module):\n",
        "  def __init__(self, num_hidden):\n",
        "    super().__init__()\n",
        "    self.conv1 = nn.Conv2d(num_hidden, num_hidden, kernel_size=3, padding=1)\n",
        "    self.bn1 = nn.BatchNorm2d(num_hidden)\n",
        "    self.conv2 = nn.Conv2d(num_hidden, num_hidden, kernel_size=3, padding=1)\n",
        "    self.bn2 = nn.BatchNorm2d(num_hidden)\n",
        "\n",
        "  def forward(self, x):\n",
        "    residual = x\n",
        "    x = F.relu(self.bn1(self.conv1(x)))\n",
        "    x = self.bn2(self.conv2(x))\n",
        "    x += residual # skip connection, allows to mask out conv\n",
        "    x = F.relu(x)\n",
        "    return x\n"
      ],
      "metadata": {
        "id": "eu1W3fzhN9hM"
      },
      "execution_count": 12,
      "outputs": []
    },
    {
      "cell_type": "code",
      "source": [
        "import matplotlib.pyplot as plt\n",
        "\n",
        "tictactoe = TicTacToe()\n",
        "\n",
        "state = tictactoe.get_initial_state()\n",
        "state = tictactoe.get_next_state(state, 2, 1)\n",
        "state = tictactoe.get_next_state(state, 7, -1)\n",
        "\n",
        "encoded_state = tictactoe.get_encoded_state(state) # 3 planes\n",
        "\n",
        "tensor_state = torch.tensor(encoded_state).unsqueeze(0)\n",
        "\n",
        "model = ResNet(tictactoe, 4, 64)\n",
        "\n",
        "policy, value = model(tensor_state)\n",
        "value = value.item()\n",
        "policy = torch.softmax(policy, axis=1).squeeze(0).detach().cpu().numpy()\n",
        "\n",
        "plt.bar(range(tictactoe.action_size), policy)\n",
        "plt.show()"
      ],
      "metadata": {
        "colab": {
          "base_uri": "https://localhost:8080/",
          "height": 430
        },
        "id": "svg1PlgSTUMg",
        "outputId": "aff136cc-6e48-4371-be4f-827db7447611"
      },
      "execution_count": 15,
      "outputs": [
        {
          "output_type": "display_data",
          "data": {
            "text/plain": [
              "<Figure size 640x480 with 1 Axes>"
            ],
            "image/png": "[encoded data removed]"
          },
          "metadata": {}
        }
      ]
    },
    {
      "cell_type": "code",
      "source": [
        "class AlphaNode:\n",
        "  def __init__(self, game, args, state, parent=None, action_taken=None, prior=0):\n",
        "    self.game = game\n",
        "    self.args = args\n",
        "    self.state = state\n",
        "    self.parent = parent\n",
        "    self.action_taken = action_taken\n",
        "    self.prior = prior # prob that is given by parent to this node\n",
        "\n",
        "    self.children = []\n",
        "\n",
        "    self.visit_count = 0\n",
        "    self.value_sum = 0\n",
        "\n",
        "  def is_fully_expanded(self):\n",
        "    # now we exapnd in all direction immediately as we have policy\n",
        "    return len(self.children) > 0\n",
        "\n",
        "  def select(self):\n",
        "    best_child = None\n",
        "    best_ucb = -np.inf\n",
        "\n",
        "    for child in self.children:\n",
        "      ucb = self.get_ucb(child)\n",
        "      if ucb > best_ucb:\n",
        "        best_child = child\n",
        "        best_ucb = ucb\n",
        "\n",
        "    return best_child\n",
        "\n",
        "  def get_ucb(self, child):\n",
        "    # rescale to [0,1] range\n",
        "    # Take inverse of q because the child is the opponent from perspective\n",
        "    # of the parent, so we are looking for the worst q\n",
        "    # (parent player 1, child player 2)\n",
        "    if child.visit_count == 0:\n",
        "      q_value = 0\n",
        "    else:\n",
        "      q_value = 1 - (child.value_sum / child.visit_count + 1 ) / 2\n",
        "    return q_value + self.args['C'] * (math.sqrt(self.visit_count) / (child.visit_count + 1)) * child.prior\n",
        "\n",
        "  def expand(self, policy):\n",
        "    for action, prob in enumerate(policy):\n",
        "      if prob > 0:\n",
        "        # create the new state that child will take\n",
        "        child_state = self.state.copy()\n",
        "        child_state = self.game.get_next_state(child_state, action, 1)\n",
        "        child_state = self.game.change_perspective(child_state, -1)\n",
        "\n",
        "        # create child\n",
        "        child = AlphaNode(self.game, self.args, child_state, self, action, prob)\n",
        "        self.children.append(child)\n",
        "\n",
        "  def backpropogate(self, value):\n",
        "    # update yourself\n",
        "    self.value_sum += value\n",
        "    self.visit_count += 1\n",
        "\n",
        "    # update parent\n",
        "    value = self.game.get_opponent_value(value)\n",
        "    if self.parent is not None:\n",
        "      self.parent.backpropogate(value)\n",
        "\n",
        "class AlphaMCTS:\n",
        "  def __init__(self, game, args, model):\n",
        "    self.game = game\n",
        "    self.args = args\n",
        "    self.model = model\n",
        "\n",
        "  @torch.no_grad()\n",
        "  def search(self, state):\n",
        "    root = AlphaNode(self.game, self.args, state)\n",
        "\n",
        "    for search in range(self.args['num_searches']):\n",
        "      node = root\n",
        "\n",
        "      # Selection\n",
        "      while node.is_fully_expanded():\n",
        "        node = node.select()\n",
        "\n",
        "      value, is_terminated = self.game.get_value_and_terminated(node.state, node.action_taken)\n",
        "      # value above is value of the opponent\n",
        "      value = self.game.get_opponent_value(value)\n",
        "\n",
        "      if not is_terminated:\n",
        "        policy, value = self.model(\n",
        "            # batch dim, as we don't have batches, it's just a singleton dim\n",
        "            torch.tensor(self.game.get_encoded_state(node.state)).unsqueeze(0)\n",
        "        )\n",
        "        policy = torch.softmax(policy, axis=1).squeeze(0).cpu().numpy() # get rid of batch dim\n",
        "\n",
        "        # mask out illiegal moves\n",
        "        valid_moves = self.game.get_valid_moves(node.state)\n",
        "        policy *= valid_moves\n",
        "        policy /= np.sum(policy)\n",
        "\n",
        "        value = value.item()\n",
        "\n",
        "        # Expansion\n",
        "        node.expand(policy)\n",
        "\n",
        "        # Simulation - no longer needed\n",
        "        # value = node.simulate()\n",
        "\n",
        "      # Backpropogation\n",
        "      node.backpropogate(value)\n",
        "\n",
        "    action_probs = np.zeros(self.game.action_size)\n",
        "    for child in root.children:\n",
        "      action_probs[child.action_taken] = child.visit_count\n",
        "    action_probs /= np.sum(action_probs)\n",
        "    return action_probs"
      ],
      "metadata": {
        "id": "dzivRYMLWGl0"
      },
      "execution_count": 22,
      "outputs": []
    },
    {
      "cell_type": "code",
      "source": [
        "tictactoe = TicTacToe()\n",
        "player = 1\n",
        "\n",
        "args = {\n",
        "    'C': 2,\n",
        "    'num_searches': 1000\n",
        "}\n",
        "model = ResNet(tictactoe, 4, 64)\n",
        "model.eval()\n",
        "\n",
        "mcts = AlphaMCTS(tictactoe, args, model)\n",
        "\n",
        "state = tictactoe.get_initial_state()\n",
        "\n",
        "while True:\n",
        "  print(state)\n",
        "\n",
        "  if player == 1:\n",
        "    valid_moves = tictactoe.get_valid_moves(state)\n",
        "    print(\"valid moves\", [i for i in range(tictactoe.action_size) if valid_moves[i] == 1])\n",
        "    action = int(input(f\"{player}:\"))\n",
        "\n",
        "    if valid_moves[action] == 0:\n",
        "      print(\"action not valid\")\n",
        "      continue\n",
        "  else:\n",
        "    neutral_state = tictactoe.change_perspective(state, player)\n",
        "    mcts_probs = mcts.search(neutral_state)\n",
        "    action = np.argmax(mcts_probs)\n",
        "\n",
        "  state = tictactoe.get_next_state(state, action, player)\n",
        "  value, is_terminated = tictactoe.get_value_and_terminated(state, action)\n",
        "\n",
        "  if is_terminated:\n",
        "    print(state)\n",
        "    if value == 1:\n",
        "      print(player, \"won\")\n",
        "    else:\n",
        "      print(\"draw\")\n",
        "    break\n",
        "\n",
        "  # switch to the next player\n",
        "  player = tictactoe.get_opponent(player)"
      ],
      "metadata": {
        "id": "XwNOcKKcZ3Ia"
      },
      "execution_count": null,
      "outputs": []
    }
  ]
}